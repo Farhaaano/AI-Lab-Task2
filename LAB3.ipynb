{
  "nbformat": 4,
  "nbformat_minor": 0,
  "metadata": {
    "colab": {
      "provenance": []
    },
    "kernelspec": {
      "name": "python3",
      "display_name": "Python 3"
    },
    "language_info": {
      "name": "python"
    }
  },
  "cells": [
    {
      "cell_type": "code",
      "execution_count": 7,
      "metadata": {
        "colab": {
          "base_uri": "https://localhost:8080/"
        },
        "id": "f1A1NsLyWD_z",
        "outputId": "98d533c2-d984-4e52-fdb9-ee68a1f42f3c"
      },
      "outputs": [
        {
          "output_type": "stream",
          "name": "stdout",
          "text": [
            "BFS Shortest Path from Karachi to Peshawar: ['Karachi', 'Lahore', 'Islamabad', 'Peshawar']\n",
            "DFS Path from Karachi to Peshawar: ['Karachi', 'Lahore', 'Islamabad', 'Peshawar']\n"
          ]
        }
      ],
      "source": [
        "from collections import deque\n",
        "\n",
        "cities_graph = {\n",
        "    \"Islamabad\": [\"Rawalpindi\", \"Lahore\", \"Peshawar\"],\n",
        "    \"Rawalpindi\": [\"Islamabad\", \"Lahore\", \"Murree\"],\n",
        "    \"Lahore\": [\"Islamabad\", \"Rawalpindi\", \"Karachi\", \"Multan\"],\n",
        "    \"Karachi\": [\"Lahore\", \"Quetta\"],\n",
        "    \"Peshawar\": [\"Islamabad\", \"Mardan\", \"Kohat\"],\n",
        "    \"Mardan\": [\"Peshawar\", \"Swat\"],\n",
        "    \"Quetta\": [\"Karachi\", \"Zhob\", \"Dera Ghazi Khan\"],\n",
        "    \"Multan\": [\"Lahore\", \"Dera Ghazi Khan\", \"Bahawalpur\"],\n",
        "    \"Swat\": [\"Mardan\", \"Chitral\"],\n",
        "    \"Dera Ghazi Khan\": [\"Bahawalpur\", \"Multan\", \"Quetta\"],\n",
        "    \"Murree\": [\"Rawalpindi\"],\n",
        "    \"Chitral\": [\"Swat\"]\n",
        "}\n",
        "\n",
        "def bfs_shortest_path(graph, start, goal):\n",
        "    visited = set()\n",
        "    queue = deque([[start]])\n",
        "\n",
        "    while queue:\n",
        "        path = queue.popleft()\n",
        "        current_city = path[-1]\n",
        "\n",
        "        if current_city == goal:\n",
        "            return path\n",
        "\n",
        "        if current_city not in visited:\n",
        "            visited.add(current_city)\n",
        "\n",
        "            for neighbor in graph.get(current_city, []):\n",
        "                new_path = list(path)\n",
        "                new_path.append(neighbor)\n",
        "                queue.append(new_path)\n",
        "\n",
        "    return None\n",
        "\n",
        "def dfs_path(graph, start, goal, path=None, visited=None):\n",
        "    if path is None:\n",
        "        path = []\n",
        "    if visited is None:\n",
        "        visited = set()\n",
        "\n",
        "    path.append(start)\n",
        "    visited.add(start)\n",
        "\n",
        "    if start == goal:\n",
        "        return path\n",
        "\n",
        "    for neighbor in graph.get(start, []):\n",
        "        if neighbor not in visited:\n",
        "            result = dfs_path(graph, neighbor, goal, path.copy(), visited.copy())\n",
        "\n",
        "            if result:\n",
        "                return result\n",
        "\n",
        "    return None\n",
        "\n",
        "start_city = \"Karachi\"\n",
        "goal_city = \"Peshawar\"\n",
        "\n",
        "bfs_result = bfs_shortest_path(cities_graph, start_city, goal_city)\n",
        "print(\"BFS Shortest Path from Karachi to Peshawar:\", bfs_result)\n",
        "\n",
        "dfs_result = dfs_path(cities_graph, start_city, goal_city)\n",
        "print(\"DFS Path from Karachi to Peshawar:\", dfs_result)\n"
      ]
    }
  ]
}