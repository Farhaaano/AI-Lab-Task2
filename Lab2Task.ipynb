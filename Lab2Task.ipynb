{
  "nbformat": 4,
  "nbformat_minor": 0,
  "metadata": {
    "colab": {
      "provenance": [],
      "runtime_attributes": {
        "runtime_version": "2025.07"
      }
    },
    "kernelspec": {
      "name": "python3",
      "display_name": "Python 3"
    },
    "language_info": {
      "name": "python"
    }
  },
  "cells": [
    {
      "cell_type": "code",
      "execution_count": null,
      "metadata": {
        "id": "FBpb2Ry6DZF7"
      },
      "outputs": [],
      "source": []
    },
    {
      "cell_type": "markdown",
      "source": [
        "Matplotlib"
      ],
      "metadata": {
        "id": "zQuB2X50DcUE"
      }
    },
    {
      "cell_type": "markdown",
      "source": [
        "Numpy"
      ],
      "metadata": {
        "id": "oznROsumDngL"
      }
    },
    {
      "cell_type": "markdown",
      "source": [
        "Dictionary"
      ],
      "metadata": {
        "id": "A9n5oAatDqkz"
      }
    },
    {
      "cell_type": "markdown",
      "source": [
        "List"
      ],
      "metadata": {
        "id": "3J1dVCvtDtKj"
      }
    },
    {
      "cell_type": "markdown",
      "source": [
        "Tuple"
      ],
      "metadata": {
        "id": "5rPVBHRkDu0b"
      }
    },
    {
      "cell_type": "markdown",
      "source": [
        "Set"
      ],
      "metadata": {
        "id": "hDqn5EGUDwEr"
      }
    },
    {
      "cell_type": "code",
      "source": [
        "Num=[1,2,3,4,5,6,7,8,9,10]\n",
        "print(Num)\n",
        "\n",
        "print(\"Max:\", max(Num))\n",
        "\n",
        "print(\"Sum is:\", sum(Num) )\n",
        "\n",
        "print(\"Min:\", min(Num))\n",
        "\n",
        "Num.append(11)\n",
        "print(\"list after append:\", Num)\n",
        "\n",
        "Num.remove(9)\n",
        "print(\"List After remove:\", Num)\n",
        "\n",
        "print(\"List After reverse:\", sorted(Num, reverse=True))"
      ],
      "metadata": {
        "colab": {
          "base_uri": "https://localhost:8080/"
        },
        "id": "QgqaPW6eSV0v",
        "outputId": "be821d16-e172-465e-fdeb-6f71c0c2713c"
      },
      "execution_count": 40,
      "outputs": [
        {
          "output_type": "stream",
          "name": "stdout",
          "text": [
            "[1, 2, 3, 4, 5, 6, 7, 8, 9, 10]\n",
            "Max: 10\n",
            "Sum is: 55\n",
            "Min: 1\n",
            "list after append: [1, 2, 3, 4, 5, 6, 7, 8, 9, 10, 11]\n",
            "List After remove: [1, 2, 3, 4, 5, 6, 7, 8, 10, 11]\n",
            "List After reverse: [11, 10, 8, 7, 6, 5, 4, 3, 2, 1]\n"
          ]
        }
      ]
    },
    {
      "cell_type": "code",
      "source": [
        "fruit_tuple = ('Apples', 'Banana', 'Orange', 'Apricot', 'Mango')\n",
        "print(fruit_tuple)\n",
        "print(fruit_tuple[1])\n",
        "print(fruit_tuple[4])\n",
        "\n",
        "fruits_list = list(fruit_tuple)\n",
        "fruits_list[3] = 'Pear'\n",
        "print(\"Modified List:\", fruits_list)"
      ],
      "metadata": {
        "colab": {
          "base_uri": "https://localhost:8080/"
        },
        "id": "jQCXlOFCS4oQ",
        "outputId": "4b205898-64f8-41de-80dc-59ddf706f681"
      },
      "execution_count": 1,
      "outputs": [
        {
          "output_type": "stream",
          "name": "stdout",
          "text": [
            "('Apples', 'Banana', 'Orange', 'Apricot', 'Mango')\n",
            "Banana\n",
            "Mango\n",
            "Modified List: ['Apples', 'Banana', 'Orange', 'Pear', 'Mango']\n"
          ]
        }
      ]
    },
    {
      "cell_type": "code",
      "source": [
        "setA = {1, 2, 3, 4, 5}\n",
        "setB = {2, 3, 4, 5, 6}\n",
        "print(\"Set A:\", setA)\n",
        "print(\"Set B:\", setB)\n",
        "\n",
        "print(\"Union:\", setA | setB)\n",
        "\n",
        "print(\"Intersection:\", setA & setB)\n",
        "\n",
        "print(\"Difference (A - B):\", setA - setB)\n",
        "\n",
        "print(\"Symmetric Difference:\", setA ^ setB)\n"
      ],
      "metadata": {
        "colab": {
          "base_uri": "https://localhost:8080/"
        },
        "collapsed": true,
        "id": "RZ25vZkZUbce",
        "outputId": "69c8ef5e-b281-4fc2-954a-b171e1742016"
      },
      "execution_count": 5,
      "outputs": [
        {
          "output_type": "stream",
          "name": "stdout",
          "text": [
            "Set A: {1, 2, 3, 4, 5}\n",
            "Set B: {2, 3, 4, 5, 6}\n",
            "Union: {1, 2, 3, 4, 5, 6}\n",
            "Intersection: {2, 3, 4, 5}\n",
            "Difference (A - B): {1}\n",
            "Symmetric Difference: {1, 6}\n"
          ]
        }
      ]
    },
    {
      "cell_type": "code",
      "source": [
        "my_dict = {\"name\": \"Farhan\",\n",
        "           \"age\": 22,\n",
        "           \"city\": \"Swat\"}\n",
        "\n",
        "\n",
        "print(my_dict[\"name\"])\n",
        "print(my_dict)\n",
        "\n",
        "my_dict[\"email\"] = \"Farhan@example.com\"\n",
        "my_dict[\"age\"] = 23\n",
        "\n",
        "\n",
        "del my_dict[\"city\"]\n",
        "\n",
        "print(my_dict)\n"
      ],
      "metadata": {
        "colab": {
          "base_uri": "https://localhost:8080/"
        },
        "id": "aLmiIWXvXhb1",
        "outputId": "ac283343-df53-4115-f192-2f44cad5435e"
      },
      "execution_count": 9,
      "outputs": [
        {
          "output_type": "stream",
          "name": "stdout",
          "text": [
            "Farhan\n",
            "{'name': 'Farhan', 'age': 22, 'city': 'Swat'}\n",
            "{'name': 'Farhan', 'age': 23, 'email': 'Farhan@example.com'}\n"
          ]
        }
      ]
    }
  ]
}